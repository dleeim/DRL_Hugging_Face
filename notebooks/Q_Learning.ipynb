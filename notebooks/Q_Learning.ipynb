{
 "cells": [
  {
   "cell_type": "markdown",
   "metadata": {},
   "source": [
    "# Q Learning"
   ]
  },
  {
   "cell_type": "code",
   "execution_count": 66,
   "metadata": {},
   "outputs": [],
   "source": [
    "import numpy as np\n",
    "import gymnasium as gym\n",
    "import matplotlib.pyplot as plt\n",
    "from tqdm import tqdm"
   ]
  },
  {
   "cell_type": "markdown",
   "metadata": {},
   "source": [
    "## Libraries and Parameters for Video Recording"
   ]
  },
  {
   "cell_type": "code",
   "execution_count": 67,
   "metadata": {},
   "outputs": [],
   "source": [
    "import os\n",
    "from gymnasium.wrappers import RecordVideo, RecordEpisodeStatistics"
   ]
  },
  {
   "cell_type": "markdown",
   "metadata": {},
   "source": [
    "## Environment: Frozen Lake\n",
    "\n",
    "- **Environment**: FrozenLake\n",
    "- **map**: 8x8\n",
    "- **is_slippery**: True/False. If True will move in intended direction with probability of 1/3 else will move in either perpendicular direction with equal probability of 1/3 in both directions."
   ]
  },
  {
   "cell_type": "code",
   "execution_count": 68,
   "metadata": {},
   "outputs": [],
   "source": [
    "# Parameter for Video\n",
    "training_period = 2500  # Record every 2500 episodes\n",
    "\n",
    "env = gym.make('FrozenLake-v1',map_name='8x8',is_slippery=True,render_mode=\"rgb_array\")\n",
    "\n",
    "# Create Environment with Video Recording\n",
    "env = RecordVideo(env, video_folder=\"../videos/Frozen_Lake/\",\n",
    "                  name_prefix=\"training\",\n",
    "                  episode_trigger=lambda x: x % training_period == 0)\n",
    "env = RecordEpisodeStatistics(env)"
   ]
  },
  {
   "cell_type": "markdown",
   "metadata": {},
   "source": [
    "## Parameters"
   ]
  },
  {
   "cell_type": "code",
   "execution_count": null,
   "metadata": {},
   "outputs": [],
   "source": [
    "n_episode = 10000\n",
    "alpha = 0.5\n",
    "epsilon = 0.1\n",
    "decay = 0.0001"
   ]
  },
  {
   "cell_type": "markdown",
   "metadata": {},
   "source": [
    "## Q_Table\n",
    "\n",
    "Start with every Q(s,a) = 0"
   ]
  },
  {
   "cell_type": "code",
   "execution_count": 70,
   "metadata": {},
   "outputs": [],
   "source": [
    "Q = np.zeros((env.observation_space.n,env.action_space.n))"
   ]
  },
  {
   "cell_type": "markdown",
   "metadata": {},
   "source": [
    "## Q-Learning"
   ]
  },
  {
   "cell_type": "code",
   "execution_count": 71,
   "metadata": {},
   "outputs": [
    {
     "name": "stderr",
     "output_type": "stream",
     "text": [
      "  0%|          | 0/10000 [00:00<?, ?it/s]"
     ]
    },
    {
     "name": "stdout",
     "output_type": "stream",
     "text": [
      "MoviePy - Building video /Users/donggyulee/Desktop/Independent/Projects/DRL_Hugging_Face/videos/Frozen_Lake/training-episode-0.mp4.\n",
      "MoviePy - Writing video /Users/donggyulee/Desktop/Independent/Projects/DRL_Hugging_Face/videos/Frozen_Lake/training-episode-0.mp4\n",
      "\n"
     ]
    },
    {
     "name": "stderr",
     "output_type": "stream",
     "text": [
      "  3%|▎         | 288/10000 [00:00<00:11, 861.66it/s]"
     ]
    },
    {
     "name": "stdout",
     "output_type": "stream",
     "text": [
      "MoviePy - Done !\n",
      "MoviePy - video ready /Users/donggyulee/Desktop/Independent/Projects/DRL_Hugging_Face/videos/Frozen_Lake/training-episode-0.mp4\n"
     ]
    },
    {
     "name": "stderr",
     "output_type": "stream",
     "text": [
      " 24%|██▍       | 2382/10000 [00:01<00:05, 1423.94it/s]"
     ]
    },
    {
     "name": "stdout",
     "output_type": "stream",
     "text": [
      "MoviePy - Building video /Users/donggyulee/Desktop/Independent/Projects/DRL_Hugging_Face/videos/Frozen_Lake/training-episode-2500.mp4.\n",
      "MoviePy - Writing video /Users/donggyulee/Desktop/Independent/Projects/DRL_Hugging_Face/videos/Frozen_Lake/training-episode-2500.mp4\n",
      "\n"
     ]
    },
    {
     "name": "stderr",
     "output_type": "stream",
     "text": [
      " 28%|██▊       | 2819/10000 [00:02<00:05, 1328.90it/s]"
     ]
    },
    {
     "name": "stdout",
     "output_type": "stream",
     "text": [
      "MoviePy - Done !\n",
      "MoviePy - video ready /Users/donggyulee/Desktop/Independent/Projects/DRL_Hugging_Face/videos/Frozen_Lake/training-episode-2500.mp4\n"
     ]
    },
    {
     "name": "stderr",
     "output_type": "stream",
     "text": [
      " 50%|████▉     | 4992/10000 [00:03<00:03, 1447.22it/s]"
     ]
    },
    {
     "name": "stdout",
     "output_type": "stream",
     "text": [
      "MoviePy - Building video /Users/donggyulee/Desktop/Independent/Projects/DRL_Hugging_Face/videos/Frozen_Lake/training-episode-5000.mp4.\n",
      "MoviePy - Writing video /Users/donggyulee/Desktop/Independent/Projects/DRL_Hugging_Face/videos/Frozen_Lake/training-episode-5000.mp4\n",
      "\n"
     ]
    },
    {
     "name": "stderr",
     "output_type": "stream",
     "text": [
      " 53%|█████▎    | 5262/10000 [00:04<00:04, 1144.94it/s]"
     ]
    },
    {
     "name": "stdout",
     "output_type": "stream",
     "text": [
      "MoviePy - Done !\n",
      "MoviePy - video ready /Users/donggyulee/Desktop/Independent/Projects/DRL_Hugging_Face/videos/Frozen_Lake/training-episode-5000.mp4\n"
     ]
    },
    {
     "name": "stderr",
     "output_type": "stream",
     "text": [
      " 74%|███████▍  | 7427/10000 [00:05<00:01, 1414.14it/s]"
     ]
    },
    {
     "name": "stdout",
     "output_type": "stream",
     "text": [
      "MoviePy - Building video /Users/donggyulee/Desktop/Independent/Projects/DRL_Hugging_Face/videos/Frozen_Lake/training-episode-7500.mp4.\n",
      "MoviePy - Writing video /Users/donggyulee/Desktop/Independent/Projects/DRL_Hugging_Face/videos/Frozen_Lake/training-episode-7500.mp4\n",
      "\n"
     ]
    },
    {
     "name": "stderr",
     "output_type": "stream",
     "text": [
      " 79%|███████▊  | 7872/10000 [00:05<00:01, 1348.15it/s]"
     ]
    },
    {
     "name": "stdout",
     "output_type": "stream",
     "text": [
      "MoviePy - Done !\n",
      "MoviePy - video ready /Users/donggyulee/Desktop/Independent/Projects/DRL_Hugging_Face/videos/Frozen_Lake/training-episode-7500.mp4\n"
     ]
    },
    {
     "name": "stderr",
     "output_type": "stream",
     "text": [
      "100%|██████████| 10000/10000 [00:07<00:00, 1338.59it/s]\n"
     ]
    },
    {
     "name": "stdout",
     "output_type": "stream",
     "text": [
      "MoviePy - Building video /Users/donggyulee/Desktop/Independent/Projects/DRL_Hugging_Face/videos/Frozen_Lake/training-episode-10000.mp4.\n",
      "MoviePy - Writing video /Users/donggyulee/Desktop/Independent/Projects/DRL_Hugging_Face/videos/Frozen_Lake/training-episode-10000.mp4\n",
      "\n"
     ]
    },
    {
     "name": "stderr",
     "output_type": "stream",
     "text": [
      "                                                            \r"
     ]
    },
    {
     "name": "stdout",
     "output_type": "stream",
     "text": [
      "MoviePy - Done !\n",
      "MoviePy - video ready /Users/donggyulee/Desktop/Independent/Projects/DRL_Hugging_Face/videos/Frozen_Lake/training-episode-10000.mp4\n"
     ]
    }
   ],
   "source": [
    "Returns = []\n",
    "\n",
    "for i in tqdm(range(n_episode)):\n",
    "\n",
    "    # 0. Reset for every episode\n",
    "    observation, info = env.reset()\n",
    "    Return                                              = 0.\n",
    "    episode_over                                        = False\n",
    "\n",
    "    while not episode_over:\n",
    "\n",
    "        # 1. Choose an action\n",
    "        if np.random.rand() < epsilon:\n",
    "            action                                      = env.action_space.sample() \n",
    "        else:\n",
    "            max_index                                   = np.where(Q[observation] == np.max(Q[observation]))[0]\n",
    "            action                                      = np.random.choice(max_index)\n",
    "\n",
    "        # 2. take action and observe\n",
    "        next_observation,reward,terminated,truncated,_  = env.step(action)          \n",
    "\n",
    "        # 3. Update Rule\n",
    "        Q[observation][action]                          = Q[observation][action] + alpha*(reward + max(Q[next_observation]) - Q[observation][action])\n",
    "\n",
    "        # 4. Preparation for next iter\n",
    "        Return                                          += reward               \n",
    "        episode_over                                    = terminated or truncated   \n",
    "        observation                                     = next_observation\n",
    "        epsilon                                         *= decay\n",
    "\n",
    "    # 5. Record return after episode termination\n",
    "    Returns.append(Return)\n",
    "\n",
    "env.close() # Ensure video is saved"
   ]
  },
  {
   "cell_type": "markdown",
   "metadata": {},
   "source": [
    "## Plot Return"
   ]
  },
  {
   "cell_type": "code",
   "execution_count": 72,
   "metadata": {},
   "outputs": [
    {
     "data": {
      "image/png": "[encoded data removed]",
      "text/plain": [
       "<Figure size 640x480 with 1 Axes>"
      ]
     },
     "metadata": {},
     "output_type": "display_data"
    }
   ],
   "source": [
    "# Plot\n",
    "plt.figure()\n",
    "plt.plot(Returns)\n",
    "plt.xlabel('episodes')\n",
    "plt.ylabel('Return')\n",
    "plt.show()"
   ]
  }
 ],
 "metadata": {
  "kernelspec": {
   "display_name": "venv",
   "language": "python",
   "name": "python3"
  },
  "language_info": {
   "codemirror_mode": {
    "name": "ipython",
    "version": 3
   },
   "file_extension": ".py",
   "mimetype": "text/x-python",
   "name": "python",
   "nbconvert_exporter": "python",
   "pygments_lexer": "ipython3",
   "version": "3.11.3"
  }
 },
 "nbformat": 4,
 "nbformat_minor": 2
}
